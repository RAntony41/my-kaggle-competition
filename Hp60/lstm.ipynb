{
 "cells": [
  {
   "cell_type": "code",
   "execution_count": 97,
   "metadata": {},
   "outputs": [],
   "source": [
    "import pandas as pd\n",
    "import json\n",
    "import os\n",
    "\n",
    "import numpy as np\n",
    "import matplotlib.pyplot as plt\n",
    "\n",
    "import torch\n",
    "import torch.nn as nn\n",
    "import torch.optim as optim\n",
    "from torch.utils.data import Dataset, DataLoader, Subset\n",
    "\n",
    "from tqdm import tqdm"
   ]
  },
  {
   "cell_type": "code",
   "execution_count": 98,
   "metadata": {},
   "outputs": [
    {
     "data": {
      "text/plain": [
       "device(type='mps')"
      ]
     },
     "execution_count": 98,
     "metadata": {},
     "output_type": "execute_result"
    }
   ],
   "source": [
    "if torch.cuda.is_available():\n",
    "    device = torch.device(\"cuda\")\n",
    "elif torch.backends.mps.is_available():\n",
    "    device = torch.device(\"mps\")\n",
    "else:\n",
    "    device = torch.device(\"cpu\")\n",
    "\n",
    "device"
   ]
  },
  {
   "cell_type": "code",
   "execution_count": 99,
   "metadata": {},
   "outputs": [],
   "source": [
    "import json\n",
    "import pandas as pd\n",
    "\n",
    "# Load the JSON file\n",
    "file_path = './downloaded_data.json'  # Replace with your file path\n",
    "with open(file_path, 'r') as file:\n",
    "    data = json.load(file)\n",
    "\n",
    "# Convert the \"datetime\" field to a DataFrame\n",
    "df = pd.DataFrame({'datetime': data['datetime'], 'Hp60': data['Hp60']})"
   ]
  },
  {
   "cell_type": "code",
   "execution_count": 100,
   "metadata": {},
   "outputs": [],
   "source": [
    "def change_time(df):\n",
    "    # Remove the 'Z' and convert to Pandas datetime format\n",
    "    df['datetime'] = pd.to_datetime(df['datetime'].str.replace('Z', ''))\n",
    "\n",
    "    # Separate components\n",
    "    df['date'] = df['datetime'].dt.date       # Extract date\n",
    "    df['time'] = df['datetime'].dt.time       # Extract time\n",
    "    df['year'] = df['datetime'].dt.year       # Extract year\n",
    "    df['month'] = df['datetime'].dt.month     # Extract month\n",
    "    df['day'] = df['datetime'].dt.day         # Extract day\n",
    "    df['hour'] = df['datetime'].dt.hour       # Extract hour\n",
    "\n",
    "    df = df.drop(columns=['datetime','date','time'])\n",
    "    \n",
    "    return df\n",
    "\n",
    "df = change_time(df)"
   ]
  },
  {
   "cell_type": "code",
   "execution_count": 101,
   "metadata": {},
   "outputs": [],
   "source": [
    "train_df = df[df['year']!=2024]\n",
    "test_df = df[df['year']==2024]"
   ]
  },
  {
   "cell_type": "markdown",
   "metadata": {},
   "source": [
    "# Dataloader"
   ]
  },
  {
   "cell_type": "code",
   "execution_count": 102,
   "metadata": {},
   "outputs": [],
   "source": [
    "from sklearn.preprocessing import MinMaxScaler\n",
    "\n",
    "scaler = MinMaxScaler()"
   ]
  },
  {
   "cell_type": "code",
   "execution_count": 103,
   "metadata": {},
   "outputs": [],
   "source": [
    "class Sliding_window(Dataset):\n",
    "    def __init__(self, df, X_point, y_point):\n",
    "        self.df = df\n",
    "        self.X_point = X_point\n",
    "        self.y_point = y_point\n",
    "        self.sequence24 = []\n",
    "        self.sequence6 = []\n",
    "        \n",
    "        counter = 1\n",
    "        temp_x = []\n",
    "        temp_y = []\n",
    "        for idx,i in enumerate(self.df['Hp60']):\n",
    "            if counter <= self.X_point:\n",
    "                temp_x.append(i)\n",
    "            else:\n",
    "                temp_y.append(i)\n",
    "            \n",
    "            if (idx + 1) % (X_point + y_point) == 0:\n",
    "                self.sequence24.append(temp_x)\n",
    "                self.sequence6.append(temp_y)\n",
    "                temp_x = []\n",
    "                temp_y = []\n",
    "                counter = 0\n",
    "             \n",
    "            counter += 1    \n",
    "    \n",
    "    def __len__(self):\n",
    "        return len(self.sequence24)\n",
    "\n",
    "    def __getitem__(self, idx):\n",
    "        data = torch.Tensor(self.sequence24[idx])\n",
    "        label = torch.Tensor(self.sequence6[idx])\n",
    "        \n",
    "        return data, label\n"
   ]
  },
  {
   "cell_type": "code",
   "execution_count": 104,
   "metadata": {},
   "outputs": [],
   "source": [
    "train_dataset = Sliding_window(df=train_df,\n",
    "                         X_point=24,\n",
    "                         y_point=6)\n",
    "test_dataset = Sliding_window(df=test_df,\n",
    "                         X_point=24,\n",
    "                         y_point=6)"
   ]
  },
  {
   "cell_type": "code",
   "execution_count": 105,
   "metadata": {},
   "outputs": [],
   "source": [
    "train_dataloader = DataLoader(train_dataset, batch_size=32, shuffle=False)\n",
    "test_dataloader = DataLoader(test_dataset, batch_size=32, shuffle=False)"
   ]
  },
  {
   "cell_type": "code",
   "execution_count": 106,
   "metadata": {},
   "outputs": [],
   "source": [
    "x,y = train_dataset[2:5]"
   ]
  },
  {
   "cell_type": "code",
   "execution_count": 107,
   "metadata": {},
   "outputs": [
    {
     "data": {
      "text/plain": [
       "tensor([[0.3330, 0.0000, 0.0000, 0.3330, 0.6670, 0.0000, 0.0000, 0.0000, 0.3330,\n",
       "         0.3330, 0.6670, 0.6670, 1.3330, 0.0000, 0.0000, 0.0000, 0.0000, 0.3330,\n",
       "         0.6670, 0.3330, 1.3330, 1.0000, 1.0000, 0.3330],\n",
       "        [0.0000, 0.3330, 0.3330, 0.3330, 0.6670, 0.6670, 2.6670, 1.6670, 2.0000,\n",
       "         1.0000, 1.3330, 1.0000, 1.3330, 1.6670, 1.0000, 0.0000, 0.6670, 1.3330,\n",
       "         3.0000, 4.6670, 4.0000, 3.3330, 2.6670, 1.3330],\n",
       "        [3.0000, 3.6670, 3.3330, 3.3330, 3.0000, 2.3330, 4.0000, 3.3330, 3.3330,\n",
       "         2.3330, 2.6670, 3.0000, 2.3330, 2.0000, 2.3330, 1.3330, 2.0000, 2.0000,\n",
       "         1.6670, 1.3330, 1.3330, 1.6670, 1.6670, 1.3330]])"
      ]
     },
     "execution_count": 107,
     "metadata": {},
     "output_type": "execute_result"
    }
   ],
   "source": [
    "x"
   ]
  },
  {
   "cell_type": "code",
   "execution_count": 108,
   "metadata": {},
   "outputs": [
    {
     "data": {
      "text/plain": [
       "tensor([[0.3330, 0.0000, 0.0000, 0.3330, 0.6670, 0.0000],\n",
       "        [2.0000, 1.0000, 1.3330, 2.3330, 2.6670, 4.0000],\n",
       "        [1.0000, 2.0000, 1.3330, 1.6670, 2.0000, 2.0000]])"
      ]
     },
     "execution_count": 108,
     "metadata": {},
     "output_type": "execute_result"
    }
   ],
   "source": [
    "y"
   ]
  },
  {
   "cell_type": "markdown",
   "metadata": {},
   "source": [
    "# Train"
   ]
  },
  {
   "cell_type": "code",
   "execution_count": 109,
   "metadata": {},
   "outputs": [],
   "source": [
    "class signal_model(nn.Module):\n",
    "    def __init__(self, X_point, y_point, hidden_dim):\n",
    "        super(signal_model, self).__init__()\n",
    "        self.lstm = nn.LSTM(X_point, hidden_dim, batch_first=True)\n",
    "        self.fc = nn.Linear(hidden_dim, y_point)\n",
    "        self.activation = nn.Softplus()\n",
    "    \n",
    "    def forward(self, sentences):\n",
    "        lstm_out, _ = self.lstm(sentences)\n",
    "        #print(lstm_out.shape)\n",
    "        #lstm_out_last = lstm_out[:, -1, :]\n",
    "        #print(lstm_out_last.shape)\n",
    "        x = self.fc(lstm_out)\n",
    "        #print(x.shape)\n",
    "        x = self.activation(x)\n",
    "        return x\n",
    "    "
   ]
  },
  {
   "cell_type": "code",
   "execution_count": 110,
   "metadata": {},
   "outputs": [
    {
     "data": {
      "text/plain": [
       "signal_model(\n",
       "  (lstm): LSTM(24, 50, batch_first=True)\n",
       "  (fc): Linear(in_features=50, out_features=6, bias=True)\n",
       "  (activation): Softplus(beta=1.0, threshold=20.0)\n",
       ")"
      ]
     },
     "execution_count": 110,
     "metadata": {},
     "output_type": "execute_result"
    }
   ],
   "source": [
    "model = signal_model(X_point=24, y_point=6,hidden_dim=50)\n",
    "model"
   ]
  },
  {
   "cell_type": "code",
   "execution_count": 111,
   "metadata": {},
   "outputs": [
    {
     "name": "stderr",
     "output_type": "stream",
     "text": [
      "Epoch 1/20: 100%|██████████| 28/28 [00:00<00:00, 242.87it/s]\n"
     ]
    },
    {
     "name": "stdout",
     "output_type": "stream",
     "text": [
      "Epoch: 1, Batch: 28, Loss: 0.3485\n"
     ]
    },
    {
     "name": "stderr",
     "output_type": "stream",
     "text": [
      "Epoch 2/20: 100%|██████████| 28/28 [00:00<00:00, 377.26it/s]\n"
     ]
    },
    {
     "name": "stdout",
     "output_type": "stream",
     "text": [
      "Epoch: 2, Batch: 28, Loss: 0.2564\n"
     ]
    },
    {
     "name": "stderr",
     "output_type": "stream",
     "text": [
      "Epoch 3/20: 100%|██████████| 28/28 [00:00<00:00, 374.81it/s]\n"
     ]
    },
    {
     "name": "stdout",
     "output_type": "stream",
     "text": [
      "Epoch: 3, Batch: 28, Loss: 0.2409\n"
     ]
    },
    {
     "name": "stderr",
     "output_type": "stream",
     "text": [
      "Epoch 4/20: 100%|██████████| 28/28 [00:00<00:00, 365.57it/s]\n"
     ]
    },
    {
     "name": "stdout",
     "output_type": "stream",
     "text": [
      "Epoch: 4, Batch: 28, Loss: 0.2360\n"
     ]
    },
    {
     "name": "stderr",
     "output_type": "stream",
     "text": [
      "Epoch 5/20: 100%|██████████| 28/28 [00:00<00:00, 265.84it/s]\n"
     ]
    },
    {
     "name": "stdout",
     "output_type": "stream",
     "text": [
      "Epoch: 5, Batch: 28, Loss: 0.2311\n"
     ]
    },
    {
     "name": "stderr",
     "output_type": "stream",
     "text": [
      "Epoch 6/20: 100%|██████████| 28/28 [00:00<00:00, 378.91it/s]\n"
     ]
    },
    {
     "name": "stdout",
     "output_type": "stream",
     "text": [
      "Epoch: 6, Batch: 28, Loss: 0.2312\n"
     ]
    },
    {
     "name": "stderr",
     "output_type": "stream",
     "text": [
      "Epoch 7/20: 100%|██████████| 28/28 [00:00<00:00, 384.94it/s]\n"
     ]
    },
    {
     "name": "stdout",
     "output_type": "stream",
     "text": [
      "Epoch: 7, Batch: 28, Loss: 0.2294\n"
     ]
    },
    {
     "name": "stderr",
     "output_type": "stream",
     "text": [
      "Epoch 8/20: 100%|██████████| 28/28 [00:00<00:00, 262.02it/s]\n"
     ]
    },
    {
     "name": "stdout",
     "output_type": "stream",
     "text": [
      "Epoch: 8, Batch: 28, Loss: 0.2226\n"
     ]
    },
    {
     "name": "stderr",
     "output_type": "stream",
     "text": [
      "Epoch 9/20: 100%|██████████| 28/28 [00:00<00:00, 373.13it/s]\n"
     ]
    },
    {
     "name": "stdout",
     "output_type": "stream",
     "text": [
      "Epoch: 9, Batch: 28, Loss: 0.2191\n"
     ]
    },
    {
     "name": "stderr",
     "output_type": "stream",
     "text": [
      "Epoch 10/20: 100%|██████████| 28/28 [00:00<00:00, 317.83it/s]\n"
     ]
    },
    {
     "name": "stdout",
     "output_type": "stream",
     "text": [
      "Epoch: 10, Batch: 28, Loss: 0.2181\n"
     ]
    },
    {
     "name": "stderr",
     "output_type": "stream",
     "text": [
      "Epoch 11/20: 100%|██████████| 28/28 [00:00<00:00, 229.32it/s]\n"
     ]
    },
    {
     "name": "stdout",
     "output_type": "stream",
     "text": [
      "Epoch: 11, Batch: 28, Loss: 0.2152\n"
     ]
    },
    {
     "name": "stderr",
     "output_type": "stream",
     "text": [
      "Epoch 12/20: 100%|██████████| 28/28 [00:00<00:00, 344.86it/s]\n"
     ]
    },
    {
     "name": "stdout",
     "output_type": "stream",
     "text": [
      "Epoch: 12, Batch: 28, Loss: 0.2130\n"
     ]
    },
    {
     "name": "stderr",
     "output_type": "stream",
     "text": [
      "Epoch 13/20: 100%|██████████| 28/28 [00:00<00:00, 360.43it/s]\n"
     ]
    },
    {
     "name": "stdout",
     "output_type": "stream",
     "text": [
      "Epoch: 13, Batch: 28, Loss: 0.2098\n"
     ]
    },
    {
     "name": "stderr",
     "output_type": "stream",
     "text": [
      "Epoch 14/20: 100%|██████████| 28/28 [00:00<00:00, 252.60it/s]\n"
     ]
    },
    {
     "name": "stdout",
     "output_type": "stream",
     "text": [
      "Epoch: 14, Batch: 28, Loss: 0.2116\n"
     ]
    },
    {
     "name": "stderr",
     "output_type": "stream",
     "text": [
      "Epoch 15/20: 100%|██████████| 28/28 [00:00<00:00, 369.12it/s]\n"
     ]
    },
    {
     "name": "stdout",
     "output_type": "stream",
     "text": [
      "Epoch: 15, Batch: 28, Loss: 0.2002\n"
     ]
    },
    {
     "name": "stderr",
     "output_type": "stream",
     "text": [
      "Epoch 16/20: 100%|██████████| 28/28 [00:00<00:00, 373.13it/s]\n"
     ]
    },
    {
     "name": "stdout",
     "output_type": "stream",
     "text": [
      "Epoch: 16, Batch: 28, Loss: 0.1980\n"
     ]
    },
    {
     "name": "stderr",
     "output_type": "stream",
     "text": [
      "Epoch 17/20: 100%|██████████| 28/28 [00:00<00:00, 255.29it/s]\n"
     ]
    },
    {
     "name": "stdout",
     "output_type": "stream",
     "text": [
      "Epoch: 17, Batch: 28, Loss: 0.1974\n"
     ]
    },
    {
     "name": "stderr",
     "output_type": "stream",
     "text": [
      "Epoch 18/20: 100%|██████████| 28/28 [00:00<00:00, 349.19it/s]\n"
     ]
    },
    {
     "name": "stdout",
     "output_type": "stream",
     "text": [
      "Epoch: 18, Batch: 28, Loss: 0.1873\n"
     ]
    },
    {
     "name": "stderr",
     "output_type": "stream",
     "text": [
      "Epoch 19/20: 100%|██████████| 28/28 [00:00<00:00, 372.80it/s]\n"
     ]
    },
    {
     "name": "stdout",
     "output_type": "stream",
     "text": [
      "Epoch: 19, Batch: 28, Loss: 0.1861\n"
     ]
    },
    {
     "name": "stderr",
     "output_type": "stream",
     "text": [
      "Epoch 20/20: 100%|██████████| 28/28 [00:00<00:00, 386.31it/s]"
     ]
    },
    {
     "name": "stdout",
     "output_type": "stream",
     "text": [
      "Epoch: 20, Batch: 28, Loss: 0.1795\n"
     ]
    },
    {
     "name": "stderr",
     "output_type": "stream",
     "text": [
      "\n"
     ]
    }
   ],
   "source": [
    "criterion = nn.MSELoss() \n",
    "optimizer = optim.Adam(model.parameters(), lr=0.01)\n",
    "\n",
    "epochs = 20\n",
    "\n",
    "# Training loop\n",
    "for epoch in range(epochs):\n",
    "    model.train()  # Set the model to training mode\n",
    "    running_loss = 0.\n",
    "    \n",
    "    train_dataloader = tqdm(train_dataloader, desc=f\"Epoch {epoch + 1}/{epochs}\")\n",
    "    for i, (inputs, futures) in enumerate(train_dataloader):\n",
    "        inputs, futures = inputs, futures\n",
    "        optimizer.zero_grad()  # Zero the gradients\n",
    "\n",
    "        outputs = model(inputs)  # Forward pass\n",
    "        loss = criterion(outputs, futures)  # Calculate loss\n",
    "        loss.backward()  # Backward pass\n",
    "        optimizer.step()  # Update weights\n",
    "\n",
    "        running_loss += loss.item()\n",
    "\n",
    "    print(f\"Epoch: {epoch + 1}, Batch: {i + 1}, Loss: {running_loss / 100:.4f}\")\n",
    "    running_loss = 0.0"
   ]
  },
  {
   "cell_type": "markdown",
   "metadata": {},
   "source": [
    "# Test"
   ]
  },
  {
   "cell_type": "code",
   "execution_count": 112,
   "metadata": {},
   "outputs": [
    {
     "name": "stderr",
     "output_type": "stream",
     "text": [
      "Evaluation: 100%|██████████| 9/9 [00:00<00:00, 1096.90it/s]"
     ]
    },
    {
     "name": "stdout",
     "output_type": "stream",
     "text": [
      "avg_loss 1.2846417816061722\n",
      "total_loss 366.1229077577591\n",
      "total_samples 285\n"
     ]
    },
    {
     "name": "stderr",
     "output_type": "stream",
     "text": [
      "\n"
     ]
    }
   ],
   "source": [
    "model.eval()\n",
    "\n",
    "total_loss = 0\n",
    "total_samples = 0\n",
    "\n",
    "all_predictions = []\n",
    "all_ground_truths = [] \n",
    "# Wrap the test dataloader with tqdm\n",
    "test_dataloader = tqdm(test_dataloader, desc=\"Evaluation\")\n",
    "\n",
    "with torch.no_grad():\n",
    "    for inputs, futures in test_dataloader:\n",
    "        inputs, futures = inputs, futures\n",
    "        \n",
    "        outputs = model(inputs)  # Forward pass\n",
    "        loss = criterion(outputs, futures)\n",
    "        total_loss += loss.item() * inputs.size(0)  # Accumulate loss\n",
    "        total_samples += inputs.size(0)\n",
    "        \n",
    "        all_predictions.append(outputs)\n",
    "        all_ground_truths.append(futures)\n",
    "        \n",
    "avg_loss = total_loss / total_samples\n",
    "print(\"avg_loss\",avg_loss)\n",
    "print(\"total_loss\",total_loss)\n",
    "print(\"total_samples\",total_samples)"
   ]
  },
  {
   "cell_type": "code",
   "execution_count": 113,
   "metadata": {},
   "outputs": [
    {
     "name": "stdout",
     "output_type": "stream",
     "text": [
      "avg_loss 1.2846417816061722\n",
      "total_loss 366.1229077577591\n",
      "total_samples 285\n"
     ]
    }
   ],
   "source": [
    "print(\"avg_loss\",avg_loss)\n",
    "print(\"total_loss\",total_loss)\n",
    "print(\"total_samples\",total_samples)"
   ]
  },
  {
   "cell_type": "code",
   "execution_count": 114,
   "metadata": {},
   "outputs": [
    {
     "data": {
      "image/png": "[encoded data removed]",
      "text/plain": [
       "<Figure size 1000x600 with 1 Axes>"
      ]
     },
     "metadata": {},
     "output_type": "display_data"
    }
   ],
   "source": [
    "# Convert saved outputs and ground truths into tensors\n",
    "all_predictions = torch.cat(all_predictions, dim=0)\n",
    "all_ground_truths = torch.cat(all_ground_truths, dim=0)\n",
    "\n",
    "# Plot the results\n",
    "plt.figure(figsize=(10, 6))\n",
    "plt.plot(all_ground_truths.numpy().flatten(), label='Ground Truth', color='blue', alpha=0.7)\n",
    "plt.plot(all_predictions.numpy().flatten(), label='Predictions', color='red', alpha=1)\n",
    "plt.legend()\n",
    "plt.xlabel('Sample Index')\n",
    "plt.ylabel('Value')\n",
    "plt.title('Model Predictions vs Ground Truth')\n",
    "plt.show()"
   ]
  },
  {
   "cell_type": "code",
   "execution_count": 115,
   "metadata": {},
   "outputs": [
    {
     "name": "stdout",
     "output_type": "stream",
     "text": [
      "mae 0.852368077635765\n",
      "mse 1.284641817029864\n"
     ]
    }
   ],
   "source": [
    "from sklearn.metrics import mean_absolute_error, mean_squared_error\n",
    "\n",
    "mae = mean_absolute_error(all_ground_truths, all_predictions)\n",
    "mse = mean_squared_error(all_ground_truths, all_predictions) \n",
    "\n",
    "print('mae',mae)\n",
    "print('mse',mse)"
   ]
  }
 ],
 "metadata": {
  "kernelspec": {
   "display_name": "env_imageProcessing",
   "language": "python",
   "name": "python3"
  },
  "language_info": {
   "codemirror_mode": {
    "name": "ipython",
    "version": 3
   },
   "file_extension": ".py",
   "mimetype": "text/x-python",
   "name": "python",
   "nbconvert_exporter": "python",
   "pygments_lexer": "ipython3",
   "version": "3.12.8"
  }
 },
 "nbformat": 4,
 "nbformat_minor": 2
}
