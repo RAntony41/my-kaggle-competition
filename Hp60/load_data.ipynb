{
 "cells": [
  {
   "cell_type": "code",
   "execution_count": 5,
   "metadata": {},
   "outputs": [
    {
     "name": "stderr",
     "output_type": "stream",
     "text": [
      "Downloading...\n",
      "From: https://kp.gfz-potsdam.de/app/json/?start=2021-01-01T00%3A00%3A00Z&end=2024-12-22T23%3A59%3A59Z&index=Hp60#hpo-data-download-207\n",
      "To: /Users/thiraputkongnok/Documents/DST/downloaded_data.json\n",
      "100%|██████████| 987k/987k [00:05<00:00, 171kB/s]\n"
     ]
    },
    {
     "data": {
      "text/plain": [
       "'downloaded_data.json'"
      ]
     },
     "execution_count": 5,
     "metadata": {},
     "output_type": "execute_result"
    }
   ],
   "source": [
    "import gdown\n",
    "\n",
    "url = \"https://kp.gfz-potsdam.de/app/json/?start=2021-01-01T00%3A00%3A00Z&end=2024-12-22T23%3A59%3A59Z&index=Hp60#hpo-data-download-207\" \n",
    "\n",
    "# Download the file\n",
    "output_file = \"downloaded_data.json\"  # Choose a filename\n",
    "gdown.download(url, output_file, quiet=False)"
   ]
  },
  {
   "cell_type": "code",
   "execution_count": null,
   "metadata": {},
   "outputs": [],
   "source": []
  }
 ],
 "metadata": {
  "kernelspec": {
   "display_name": "env_imageProcessing",
   "language": "python",
   "name": "python3"
  },
  "language_info": {
   "codemirror_mode": {
    "name": "ipython",
    "version": 3
   },
   "file_extension": ".py",
   "mimetype": "text/x-python",
   "name": "python",
   "nbconvert_exporter": "python",
   "pygments_lexer": "ipython3",
   "version": "3.11.5"
  }
 },
 "nbformat": 4,
 "nbformat_minor": 2
}
