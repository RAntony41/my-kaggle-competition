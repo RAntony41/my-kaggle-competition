{
 "cells": [
  {
   "cell_type": "code",
   "execution_count": 133,
   "metadata": {},
   "outputs": [],
   "source": [
    "import pandas as pd\n",
    "import json\n",
    "import os\n",
    "\n",
    "import numpy as np\n",
    "import matplotlib.pyplot as plt\n",
    "\n",
    "import torch\n",
    "import torch.nn as nn\n",
    "import torch.optim as optim\n",
    "from torch.utils.data import Dataset, DataLoader, Subset\n",
    "\n",
    "from tqdm import tqdm"
   ]
  },
  {
   "cell_type": "code",
   "execution_count": 134,
   "metadata": {},
   "outputs": [],
   "source": [
    "import json\n",
    "import pandas as pd\n",
    "\n",
    "# Load the JSON file\n",
    "file_path = \"C:/Users/USER/Downloads/downloaded_data.json\"  # Replace with your file path\n",
    "with open(file_path, 'r') as file:\n",
    "    data = json.load(file)\n",
    "\n",
    "# Convert the \"datetime\" field to a DataFrame\n",
    "df = pd.DataFrame({'datetime': data['datetime'], 'Hp60': data['Hp60']})"
   ]
  },
  {
   "cell_type": "code",
   "execution_count": 135,
   "metadata": {},
   "outputs": [],
   "source": [
    "def change_time(df):\n",
    "    # Remove the 'Z' and convert to Pandas datetime format\n",
    "    df['datetime'] = pd.to_datetime(df['datetime'].str.replace('Z', ''))\n",
    "\n",
    "    # Separate components\n",
    "    df['date'] = df['datetime'].dt.date       # Extract date\n",
    "    df['time'] = df['datetime'].dt.time       # Extract time\n",
    "    df['year'] = df['datetime'].dt.year       # Extract year\n",
    "    df['month'] = df['datetime'].dt.month     # Extract month\n",
    "    df['day'] = df['datetime'].dt.day         # Extract day\n",
    "    df['hour'] = df['datetime'].dt.hour       # Extract hour\n",
    "\n",
    "    df = df.drop(columns=['datetime','date','time'])\n",
    "    \n",
    "    return df\n",
    "\n",
    "df = change_time(df)"
   ]
  },
  {
   "cell_type": "code",
   "execution_count": 136,
   "metadata": {},
   "outputs": [],
   "source": [
    "train_df = df[df['year']!=2024]\n",
    "test_df = df[df['year']==2024]"
   ]
  },
  {
   "cell_type": "markdown",
   "metadata": {},
   "source": [
    "# Dataloader"
   ]
  },
  {
   "cell_type": "code",
   "execution_count": 137,
   "metadata": {},
   "outputs": [],
   "source": [
    "from sklearn.preprocessing import MinMaxScaler\n",
    "\n",
    "scaler = MinMaxScaler()"
   ]
  },
  {
   "cell_type": "code",
   "execution_count": 138,
   "metadata": {},
   "outputs": [],
   "source": [
    "class Sliding_window(Dataset):\n",
    "    def __init__(self, df, X_point, y_point):\n",
    "        self.df = df\n",
    "        self.X_point = X_point\n",
    "        self.y_point = y_point\n",
    "        self.sequence24 = []\n",
    "        self.sequence6 = []\n",
    "        \n",
    "        counter = 1\n",
    "        temp_x = []\n",
    "        temp_y = []\n",
    "        for idx,i in enumerate(self.df['Hp60']):\n",
    "            if counter <= self.X_point:\n",
    "                temp_x.append(i)\n",
    "            else:\n",
    "                temp_y.append(i)\n",
    "            \n",
    "            if (idx + 1) % (X_point + y_point) == 0:\n",
    "                self.sequence24.append(temp_x)\n",
    "                self.sequence6.append(temp_y)\n",
    "                temp_x = []\n",
    "                temp_y = []\n",
    "                counter = 0\n",
    "             \n",
    "            counter += 1    \n",
    "    \n",
    "    def __len__(self):\n",
    "        return len(self.sequence24)\n",
    "\n",
    "    def __getitem__(self, idx):\n",
    "        data = torch.Tensor(self.sequence24[idx])\n",
    "        label = torch.Tensor(self.sequence6[idx])\n",
    "        \n",
    "        return data, label\n"
   ]
  },
  {
   "cell_type": "code",
   "execution_count": 139,
   "metadata": {},
   "outputs": [],
   "source": [
    "train_dataset = Sliding_window(df=train_df,\n",
    "                         X_point=24,\n",
    "                         y_point=6)\n",
    "test_dataset = Sliding_window(df=test_df,\n",
    "                         X_point=24,\n",
    "                         y_point=6)"
   ]
  },
  {
   "cell_type": "code",
   "execution_count": 140,
   "metadata": {},
   "outputs": [],
   "source": [
    "train_dataloader = DataLoader(train_dataset, batch_size=32, shuffle=False)\n",
    "test_dataloader = DataLoader(test_dataset, batch_size=32, shuffle=False)"
   ]
  },
  {
   "cell_type": "code",
   "execution_count": 141,
   "metadata": {},
   "outputs": [],
   "source": [
    "x,y = train_dataset[2:5]"
   ]
  },
  {
   "cell_type": "code",
   "execution_count": 142,
   "metadata": {},
   "outputs": [
    {
     "data": {
      "text/plain": [
       "tensor([[0.3330, 0.0000, 0.0000, 0.3330, 0.6670, 0.0000, 0.0000, 0.0000, 0.3330,\n",
       "         0.3330, 0.6670, 0.6670, 1.3330, 0.0000, 0.0000, 0.0000, 0.0000, 0.3330,\n",
       "         0.6670, 0.3330, 1.3330, 1.0000, 1.0000, 0.3330],\n",
       "        [0.0000, 0.3330, 0.3330, 0.3330, 0.6670, 0.6670, 2.6670, 1.6670, 2.0000,\n",
       "         1.0000, 1.3330, 1.0000, 1.3330, 1.6670, 1.0000, 0.0000, 0.6670, 1.3330,\n",
       "         3.0000, 4.6670, 4.0000, 3.3330, 2.6670, 1.3330],\n",
       "        [3.0000, 3.6670, 3.3330, 3.3330, 3.0000, 2.3330, 4.0000, 3.3330, 3.3330,\n",
       "         2.3330, 2.6670, 3.0000, 2.3330, 2.0000, 2.3330, 1.3330, 2.0000, 2.0000,\n",
       "         1.6670, 1.3330, 1.3330, 1.6670, 1.6670, 1.3330]])"
      ]
     },
     "execution_count": 142,
     "metadata": {},
     "output_type": "execute_result"
    }
   ],
   "source": [
    "x"
   ]
  },
  {
   "cell_type": "code",
   "execution_count": 143,
   "metadata": {},
   "outputs": [
    {
     "data": {
      "text/plain": [
       "tensor([[0.3330, 0.0000, 0.0000, 0.3330, 0.6670, 0.0000],\n",
       "        [2.0000, 1.0000, 1.3330, 2.3330, 2.6670, 4.0000],\n",
       "        [1.0000, 2.0000, 1.3330, 1.6670, 2.0000, 2.0000]])"
      ]
     },
     "execution_count": 143,
     "metadata": {},
     "output_type": "execute_result"
    }
   ],
   "source": [
    "y"
   ]
  },
  {
   "cell_type": "markdown",
   "metadata": {},
   "source": [
    "# Train"
   ]
  },
  {
   "cell_type": "code",
   "execution_count": 144,
   "metadata": {},
   "outputs": [],
   "source": [
    "# class signal_model(nn.Module):\n",
    "#     def __init__(self, X_point, y_point, hidden_dim):\n",
    "#         super(signal_model, self).__init__()\n",
    "#         self.lstm = nn.LSTM(X_point, hidden_dim, batch_first=True)\n",
    "#         self.fc = nn.Linear(hidden_dim, y_point)\n",
    "#         self.activation = nn.Softplus()\n",
    "    \n",
    "#     def forward(self, sentences):\n",
    "#         lstm_out, _ = self.lstm(sentences)\n",
    "#         #print(lstm_out.shape)\n",
    "#         #lstm_out_last = lstm_out[:, -1, :]\n",
    "#         #print(lstm_out_last.shape)\n",
    "#         x = self.fc(lstm_out)\n",
    "#         #print(x.shape)\n",
    "#         x = self.activation(x)\n",
    "#         return x\n",
    "    "
   ]
  },
  {
   "cell_type": "code",
   "execution_count": 145,
   "metadata": {},
   "outputs": [],
   "source": [
    "class GRUModel(nn.Module):\n",
    "    def __init__(self, X_point, y_point, hidden_dim, num_layers=1, dropout=0.0):\n",
    "        super(GRUModel, self).__init__()\n",
    "        self.gru = nn.GRU(input_size=1, hidden_size=hidden_dim, num_layers=num_layers, \n",
    "                          batch_first=True, dropout=dropout if num_layers > 1 else 0)\n",
    "        self.fc = nn.Linear(hidden_dim, y_point)\n",
    "        self.activation = nn.Softplus()\n",
    "\n",
    "    def forward(self, inputs):\n",
    "        # Ensure input has the correct dimensions\n",
    "        inputs = inputs.unsqueeze(-1)  # Add feature dimension (shape: [batch_size, sequence_length, 1])\n",
    "        # GRU forward pass\n",
    "        gru_out, _ = self.gru(inputs)  # Outputs the hidden states for each time step\n",
    "        # Take the output from the last time step\n",
    "        gru_out_last = gru_out[:, -1, :]  # Get the last time step's output\n",
    "        # Fully connected layer and activation\n",
    "        x = self.fc(gru_out_last)\n",
    "        x = self.activation(x)\n",
    "        return x\n"
   ]
  },
  {
   "cell_type": "code",
   "execution_count": 146,
   "metadata": {},
   "outputs": [],
   "source": [
    "#model = signal_model(X_point=24, y_point=6,hidden_dim=50)\n",
    "model = GRUModel(X_point=24, y_point=6, hidden_dim=50, num_layers=2, dropout=0.2)\n"
   ]
  },
  {
   "cell_type": "code",
   "execution_count": 147,
   "metadata": {},
   "outputs": [
    {
     "name": "stderr",
     "output_type": "stream",
     "text": [
      "Epoch 1/50: 100%|██████████| 28/28 [00:00<00:00, 101.74it/s]\n"
     ]
    },
    {
     "name": "stdout",
     "output_type": "stream",
     "text": [
      "Epoch: 1, Batch: 28, Loss: 0.3441\n"
     ]
    },
    {
     "name": "stderr",
     "output_type": "stream",
     "text": [
      "Epoch 2/50: 100%|██████████| 28/28 [00:00<00:00, 101.69it/s]\n"
     ]
    },
    {
     "name": "stdout",
     "output_type": "stream",
     "text": [
      "Epoch: 2, Batch: 28, Loss: 0.2509\n"
     ]
    },
    {
     "name": "stderr",
     "output_type": "stream",
     "text": [
      "Epoch 3/50: 100%|██████████| 28/28 [00:00<00:00, 106.24it/s]\n"
     ]
    },
    {
     "name": "stdout",
     "output_type": "stream",
     "text": [
      "Epoch: 3, Batch: 28, Loss: 0.2495\n"
     ]
    },
    {
     "name": "stderr",
     "output_type": "stream",
     "text": [
      "Epoch 4/50: 100%|██████████| 28/28 [00:00<00:00, 94.36it/s]\n"
     ]
    },
    {
     "name": "stdout",
     "output_type": "stream",
     "text": [
      "Epoch: 4, Batch: 28, Loss: 0.2523\n"
     ]
    },
    {
     "name": "stderr",
     "output_type": "stream",
     "text": [
      "Epoch 5/50: 100%|██████████| 28/28 [00:00<00:00, 97.28it/s]\n"
     ]
    },
    {
     "name": "stdout",
     "output_type": "stream",
     "text": [
      "Epoch: 5, Batch: 28, Loss: 0.2540\n"
     ]
    },
    {
     "name": "stderr",
     "output_type": "stream",
     "text": [
      "Epoch 6/50: 100%|██████████| 28/28 [00:00<00:00, 99.72it/s] \n"
     ]
    },
    {
     "name": "stdout",
     "output_type": "stream",
     "text": [
      "Epoch: 6, Batch: 28, Loss: 0.2459\n"
     ]
    },
    {
     "name": "stderr",
     "output_type": "stream",
     "text": [
      "Epoch 7/50: 100%|██████████| 28/28 [00:00<00:00, 95.55it/s]\n"
     ]
    },
    {
     "name": "stdout",
     "output_type": "stream",
     "text": [
      "Epoch: 7, Batch: 28, Loss: 0.2431\n"
     ]
    },
    {
     "name": "stderr",
     "output_type": "stream",
     "text": [
      "Epoch 8/50: 100%|██████████| 28/28 [00:00<00:00, 100.53it/s]\n"
     ]
    },
    {
     "name": "stdout",
     "output_type": "stream",
     "text": [
      "Epoch: 8, Batch: 28, Loss: 0.2412\n"
     ]
    },
    {
     "name": "stderr",
     "output_type": "stream",
     "text": [
      "Epoch 9/50: 100%|██████████| 28/28 [00:00<00:00, 85.68it/s] \n"
     ]
    },
    {
     "name": "stdout",
     "output_type": "stream",
     "text": [
      "Epoch: 9, Batch: 28, Loss: 0.2439\n"
     ]
    },
    {
     "name": "stderr",
     "output_type": "stream",
     "text": [
      "Epoch 10/50: 100%|██████████| 28/28 [00:00<00:00, 90.59it/s]\n"
     ]
    },
    {
     "name": "stdout",
     "output_type": "stream",
     "text": [
      "Epoch: 10, Batch: 28, Loss: 0.2412\n"
     ]
    },
    {
     "name": "stderr",
     "output_type": "stream",
     "text": [
      "Epoch 11/50: 100%|██████████| 28/28 [00:00<00:00, 96.99it/s]\n"
     ]
    },
    {
     "name": "stdout",
     "output_type": "stream",
     "text": [
      "Epoch: 11, Batch: 28, Loss: 0.2436\n"
     ]
    },
    {
     "name": "stderr",
     "output_type": "stream",
     "text": [
      "Epoch 12/50: 100%|██████████| 28/28 [00:00<00:00, 106.95it/s]\n"
     ]
    },
    {
     "name": "stdout",
     "output_type": "stream",
     "text": [
      "Epoch: 12, Batch: 28, Loss: 0.2415\n"
     ]
    },
    {
     "name": "stderr",
     "output_type": "stream",
     "text": [
      "Epoch 13/50: 100%|██████████| 28/28 [00:00<00:00, 98.70it/s]\n"
     ]
    },
    {
     "name": "stdout",
     "output_type": "stream",
     "text": [
      "Epoch: 13, Batch: 28, Loss: 0.2416\n"
     ]
    },
    {
     "name": "stderr",
     "output_type": "stream",
     "text": [
      "Epoch 14/50: 100%|██████████| 28/28 [00:00<00:00, 96.11it/s] \n"
     ]
    },
    {
     "name": "stdout",
     "output_type": "stream",
     "text": [
      "Epoch: 14, Batch: 28, Loss: 0.2412\n"
     ]
    },
    {
     "name": "stderr",
     "output_type": "stream",
     "text": [
      "Epoch 15/50: 100%|██████████| 28/28 [00:00<00:00, 96.55it/s] \n"
     ]
    },
    {
     "name": "stdout",
     "output_type": "stream",
     "text": [
      "Epoch: 15, Batch: 28, Loss: 0.2404\n"
     ]
    },
    {
     "name": "stderr",
     "output_type": "stream",
     "text": [
      "Epoch 16/50: 100%|██████████| 28/28 [00:00<00:00, 90.74it/s]\n"
     ]
    },
    {
     "name": "stdout",
     "output_type": "stream",
     "text": [
      "Epoch: 16, Batch: 28, Loss: 0.2396\n"
     ]
    },
    {
     "name": "stderr",
     "output_type": "stream",
     "text": [
      "Epoch 17/50: 100%|██████████| 28/28 [00:00<00:00, 103.28it/s]\n"
     ]
    },
    {
     "name": "stdout",
     "output_type": "stream",
     "text": [
      "Epoch: 17, Batch: 28, Loss: 0.2410\n"
     ]
    },
    {
     "name": "stderr",
     "output_type": "stream",
     "text": [
      "Epoch 18/50: 100%|██████████| 28/28 [00:00<00:00, 108.21it/s]\n"
     ]
    },
    {
     "name": "stdout",
     "output_type": "stream",
     "text": [
      "Epoch: 18, Batch: 28, Loss: 0.2396\n"
     ]
    },
    {
     "name": "stderr",
     "output_type": "stream",
     "text": [
      "Epoch 19/50: 100%|██████████| 28/28 [00:00<00:00, 108.85it/s]\n"
     ]
    },
    {
     "name": "stdout",
     "output_type": "stream",
     "text": [
      "Epoch: 19, Batch: 28, Loss: 0.2394\n"
     ]
    },
    {
     "name": "stderr",
     "output_type": "stream",
     "text": [
      "Epoch 20/50: 100%|██████████| 28/28 [00:00<00:00, 89.56it/s] \n"
     ]
    },
    {
     "name": "stdout",
     "output_type": "stream",
     "text": [
      "Epoch: 20, Batch: 28, Loss: 0.2407\n"
     ]
    },
    {
     "name": "stderr",
     "output_type": "stream",
     "text": [
      "Epoch 21/50: 100%|██████████| 28/28 [00:00<00:00, 93.57it/s]\n"
     ]
    },
    {
     "name": "stdout",
     "output_type": "stream",
     "text": [
      "Epoch: 21, Batch: 28, Loss: 0.2404\n"
     ]
    },
    {
     "name": "stderr",
     "output_type": "stream",
     "text": [
      "Epoch 22/50: 100%|██████████| 28/28 [00:00<00:00, 86.08it/s] \n"
     ]
    },
    {
     "name": "stdout",
     "output_type": "stream",
     "text": [
      "Epoch: 22, Batch: 28, Loss: 0.2392\n"
     ]
    },
    {
     "name": "stderr",
     "output_type": "stream",
     "text": [
      "Epoch 23/50: 100%|██████████| 28/28 [00:00<00:00, 91.00it/s]\n"
     ]
    },
    {
     "name": "stdout",
     "output_type": "stream",
     "text": [
      "Epoch: 23, Batch: 28, Loss: 0.2389\n"
     ]
    },
    {
     "name": "stderr",
     "output_type": "stream",
     "text": [
      "Epoch 24/50: 100%|██████████| 28/28 [00:00<00:00, 91.83it/s]\n"
     ]
    },
    {
     "name": "stdout",
     "output_type": "stream",
     "text": [
      "Epoch: 24, Batch: 28, Loss: 0.2382\n"
     ]
    },
    {
     "name": "stderr",
     "output_type": "stream",
     "text": [
      "Epoch 25/50: 100%|██████████| 28/28 [00:00<00:00, 106.01it/s]\n"
     ]
    },
    {
     "name": "stdout",
     "output_type": "stream",
     "text": [
      "Epoch: 25, Batch: 28, Loss: 0.2403\n"
     ]
    },
    {
     "name": "stderr",
     "output_type": "stream",
     "text": [
      "Epoch 26/50: 100%|██████████| 28/28 [00:00<00:00, 94.43it/s]\n"
     ]
    },
    {
     "name": "stdout",
     "output_type": "stream",
     "text": [
      "Epoch: 26, Batch: 28, Loss: 0.2382\n"
     ]
    },
    {
     "name": "stderr",
     "output_type": "stream",
     "text": [
      "Epoch 27/50: 100%|██████████| 28/28 [00:00<00:00, 98.41it/s]\n"
     ]
    },
    {
     "name": "stdout",
     "output_type": "stream",
     "text": [
      "Epoch: 27, Batch: 28, Loss: 0.2395\n"
     ]
    },
    {
     "name": "stderr",
     "output_type": "stream",
     "text": [
      "Epoch 28/50: 100%|██████████| 28/28 [00:00<00:00, 96.26it/s]\n"
     ]
    },
    {
     "name": "stdout",
     "output_type": "stream",
     "text": [
      "Epoch: 28, Batch: 28, Loss: 0.2373\n"
     ]
    },
    {
     "name": "stderr",
     "output_type": "stream",
     "text": [
      "Epoch 29/50: 100%|██████████| 28/28 [00:00<00:00, 101.37it/s]\n"
     ]
    },
    {
     "name": "stdout",
     "output_type": "stream",
     "text": [
      "Epoch: 29, Batch: 28, Loss: 0.2382\n"
     ]
    },
    {
     "name": "stderr",
     "output_type": "stream",
     "text": [
      "Epoch 30/50: 100%|██████████| 28/28 [00:00<00:00, 103.32it/s]\n"
     ]
    },
    {
     "name": "stdout",
     "output_type": "stream",
     "text": [
      "Epoch: 30, Batch: 28, Loss: 0.2366\n"
     ]
    },
    {
     "name": "stderr",
     "output_type": "stream",
     "text": [
      "Epoch 31/50: 100%|██████████| 28/28 [00:00<00:00, 101.84it/s]\n"
     ]
    },
    {
     "name": "stdout",
     "output_type": "stream",
     "text": [
      "Epoch: 31, Batch: 28, Loss: 0.2380\n"
     ]
    },
    {
     "name": "stderr",
     "output_type": "stream",
     "text": [
      "Epoch 32/50: 100%|██████████| 28/28 [00:00<00:00, 97.09it/s] \n"
     ]
    },
    {
     "name": "stdout",
     "output_type": "stream",
     "text": [
      "Epoch: 32, Batch: 28, Loss: 0.2388\n"
     ]
    },
    {
     "name": "stderr",
     "output_type": "stream",
     "text": [
      "Epoch 33/50: 100%|██████████| 28/28 [00:00<00:00, 98.74it/s] \n"
     ]
    },
    {
     "name": "stdout",
     "output_type": "stream",
     "text": [
      "Epoch: 33, Batch: 28, Loss: 0.2369\n"
     ]
    },
    {
     "name": "stderr",
     "output_type": "stream",
     "text": [
      "Epoch 34/50: 100%|██████████| 28/28 [00:00<00:00, 100.99it/s]\n"
     ]
    },
    {
     "name": "stdout",
     "output_type": "stream",
     "text": [
      "Epoch: 34, Batch: 28, Loss: 0.2373\n"
     ]
    },
    {
     "name": "stderr",
     "output_type": "stream",
     "text": [
      "Epoch 35/50: 100%|██████████| 28/28 [00:00<00:00, 90.40it/s]\n"
     ]
    },
    {
     "name": "stdout",
     "output_type": "stream",
     "text": [
      "Epoch: 35, Batch: 28, Loss: 0.2387\n"
     ]
    },
    {
     "name": "stderr",
     "output_type": "stream",
     "text": [
      "Epoch 36/50: 100%|██████████| 28/28 [00:00<00:00, 92.06it/s]\n"
     ]
    },
    {
     "name": "stdout",
     "output_type": "stream",
     "text": [
      "Epoch: 36, Batch: 28, Loss: 0.2374\n"
     ]
    },
    {
     "name": "stderr",
     "output_type": "stream",
     "text": [
      "Epoch 37/50: 100%|██████████| 28/28 [00:00<00:00, 89.06it/s]\n"
     ]
    },
    {
     "name": "stdout",
     "output_type": "stream",
     "text": [
      "Epoch: 37, Batch: 28, Loss: 0.2374\n"
     ]
    },
    {
     "name": "stderr",
     "output_type": "stream",
     "text": [
      "Epoch 38/50: 100%|██████████| 28/28 [00:00<00:00, 91.33it/s]\n"
     ]
    },
    {
     "name": "stdout",
     "output_type": "stream",
     "text": [
      "Epoch: 38, Batch: 28, Loss: 0.2366\n"
     ]
    },
    {
     "name": "stderr",
     "output_type": "stream",
     "text": [
      "Epoch 39/50: 100%|██████████| 28/28 [00:00<00:00, 96.47it/s]\n"
     ]
    },
    {
     "name": "stdout",
     "output_type": "stream",
     "text": [
      "Epoch: 39, Batch: 28, Loss: 0.2358\n"
     ]
    },
    {
     "name": "stderr",
     "output_type": "stream",
     "text": [
      "Epoch 40/50: 100%|██████████| 28/28 [00:00<00:00, 85.80it/s]\n"
     ]
    },
    {
     "name": "stdout",
     "output_type": "stream",
     "text": [
      "Epoch: 40, Batch: 28, Loss: 0.2376\n"
     ]
    },
    {
     "name": "stderr",
     "output_type": "stream",
     "text": [
      "Epoch 41/50: 100%|██████████| 28/28 [00:00<00:00, 79.40it/s]\n"
     ]
    },
    {
     "name": "stdout",
     "output_type": "stream",
     "text": [
      "Epoch: 41, Batch: 28, Loss: 0.2365\n"
     ]
    },
    {
     "name": "stderr",
     "output_type": "stream",
     "text": [
      "Epoch 42/50: 100%|██████████| 28/28 [00:00<00:00, 98.15it/s]\n"
     ]
    },
    {
     "name": "stdout",
     "output_type": "stream",
     "text": [
      "Epoch: 42, Batch: 28, Loss: 0.2367\n"
     ]
    },
    {
     "name": "stderr",
     "output_type": "stream",
     "text": [
      "Epoch 43/50: 100%|██████████| 28/28 [00:00<00:00, 93.33it/s] \n"
     ]
    },
    {
     "name": "stdout",
     "output_type": "stream",
     "text": [
      "Epoch: 43, Batch: 28, Loss: 0.2349\n"
     ]
    },
    {
     "name": "stderr",
     "output_type": "stream",
     "text": [
      "Epoch 44/50: 100%|██████████| 28/28 [00:00<00:00, 90.78it/s]\n"
     ]
    },
    {
     "name": "stdout",
     "output_type": "stream",
     "text": [
      "Epoch: 44, Batch: 28, Loss: 0.2344\n"
     ]
    },
    {
     "name": "stderr",
     "output_type": "stream",
     "text": [
      "Epoch 45/50: 100%|██████████| 28/28 [00:00<00:00, 105.68it/s]\n"
     ]
    },
    {
     "name": "stdout",
     "output_type": "stream",
     "text": [
      "Epoch: 45, Batch: 28, Loss: 0.2355\n"
     ]
    },
    {
     "name": "stderr",
     "output_type": "stream",
     "text": [
      "Epoch 46/50: 100%|██████████| 28/28 [00:00<00:00, 96.67it/s]\n"
     ]
    },
    {
     "name": "stdout",
     "output_type": "stream",
     "text": [
      "Epoch: 46, Batch: 28, Loss: 0.2344\n"
     ]
    },
    {
     "name": "stderr",
     "output_type": "stream",
     "text": [
      "Epoch 47/50: 100%|██████████| 28/28 [00:00<00:00, 100.83it/s]\n"
     ]
    },
    {
     "name": "stdout",
     "output_type": "stream",
     "text": [
      "Epoch: 47, Batch: 28, Loss: 0.2341\n"
     ]
    },
    {
     "name": "stderr",
     "output_type": "stream",
     "text": [
      "Epoch 48/50: 100%|██████████| 28/28 [00:00<00:00, 88.00it/s]\n"
     ]
    },
    {
     "name": "stdout",
     "output_type": "stream",
     "text": [
      "Epoch: 48, Batch: 28, Loss: 0.2332\n"
     ]
    },
    {
     "name": "stderr",
     "output_type": "stream",
     "text": [
      "Epoch 49/50: 100%|██████████| 28/28 [00:00<00:00, 90.42it/s]\n"
     ]
    },
    {
     "name": "stdout",
     "output_type": "stream",
     "text": [
      "Epoch: 49, Batch: 28, Loss: 0.2339\n"
     ]
    },
    {
     "name": "stderr",
     "output_type": "stream",
     "text": [
      "Epoch 50/50: 100%|██████████| 28/28 [00:00<00:00, 97.49it/s]"
     ]
    },
    {
     "name": "stdout",
     "output_type": "stream",
     "text": [
      "Epoch: 50, Batch: 28, Loss: 0.2335\n"
     ]
    },
    {
     "name": "stderr",
     "output_type": "stream",
     "text": [
      "\n"
     ]
    }
   ],
   "source": [
    "criterion = nn.MSELoss() \n",
    "optimizer = torch.optim.Adam(model.parameters(), lr=0.005, weight_decay=1e-4)\n",
    "\n",
    "\n",
    "epochs = 50\n",
    "\n",
    "# Training loop\n",
    "for epoch in range(epochs):\n",
    "    model.train()  # Set the model to training mode\n",
    "    running_loss = 0.\n",
    "    \n",
    "    train_dataloader = tqdm(train_dataloader, desc=f\"Epoch {epoch + 1}/{epochs}\")\n",
    "    for i, (inputs, futures) in enumerate(train_dataloader):\n",
    "        inputs, futures = inputs, futures\n",
    "        optimizer.zero_grad()  # Zero the gradients\n",
    "\n",
    "        outputs = model(inputs)  # Forward pass\n",
    "        loss = criterion(outputs, futures)  # Calculate loss\n",
    "        loss.backward()  # Backward pass\n",
    "        optimizer.step()  # Update weights\n",
    "\n",
    "        running_loss += loss.item()\n",
    "\n",
    "    print(f\"Epoch: {epoch + 1}, Batch: {i + 1}, Loss: {running_loss / 100:.4f}\")\n",
    "    running_loss = 0.0"
   ]
  },
  {
   "cell_type": "markdown",
   "metadata": {},
   "source": [
    "# Test"
   ]
  },
  {
   "cell_type": "code",
   "execution_count": 148,
   "metadata": {},
   "outputs": [
    {
     "name": "stderr",
     "output_type": "stream",
     "text": [
      "Evaluation: 100%|██████████| 9/9 [00:00<00:00, 320.39it/s]"
     ]
    },
    {
     "name": "stdout",
     "output_type": "stream",
     "text": [
      "avg_loss 1.0935209443694667\n",
      "total_loss 311.653469145298\n",
      "total_samples 285\n",
      "mae: 0.7844201\n",
      "mse: 1.093521\n"
     ]
    },
    {
     "name": "stderr",
     "output_type": "stream",
     "text": [
      "\n"
     ]
    }
   ],
   "source": [
    "model.eval()\n",
    "\n",
    "total_loss = 0\n",
    "total_samples = 0\n",
    "\n",
    "all_predictions = []\n",
    "all_ground_truths = [] \n",
    "# Wrap the test dataloader with tqdm\n",
    "test_dataloader = tqdm(test_dataloader, desc=\"Evaluation\")\n",
    "\n",
    "with torch.no_grad():\n",
    "    for inputs, futures in test_dataloader:\n",
    "        inputs, futures = inputs, futures\n",
    "        \n",
    "        outputs = model(inputs)  # Forward pass\n",
    "        loss = criterion(outputs, futures)\n",
    "        total_loss += loss.item() * inputs.size(0)  # Accumulate loss\n",
    "        total_samples += inputs.size(0)\n",
    "        \n",
    "        all_predictions.append(outputs)\n",
    "        all_ground_truths.append(futures)\n",
    "        \n",
    "avg_loss = total_loss / total_samples\n",
    "print(\"avg_loss\",avg_loss)\n",
    "print(\"total_loss\",total_loss)\n",
    "print(\"total_samples\",total_samples)\n",
    "\n",
    "# After the evaluation loop\n",
    "from sklearn.metrics import mean_absolute_error, mean_squared_error\n",
    "\n",
    "# Convert saved outputs and ground truths to tensors\n",
    "all_predictions = torch.cat(all_predictions, dim=0).numpy()\n",
    "all_ground_truths = torch.cat(all_ground_truths, dim=0).numpy()\n",
    "\n",
    "# Calculate MAE and MSE\n",
    "mae = mean_absolute_error(all_ground_truths, all_predictions)\n",
    "mse = mean_squared_error(all_ground_truths, all_predictions)\n",
    "\n",
    "# Display metrics\n",
    "print('mae:', mae)\n",
    "print('mse:', mse)"
   ]
  },
  {
   "cell_type": "code",
   "execution_count": 149,
   "metadata": {},
   "outputs": [
    {
     "name": "stdout",
     "output_type": "stream",
     "text": [
      "avg_loss 1.0935209443694667\n",
      "total_loss 311.653469145298\n",
      "total_samples 285\n"
     ]
    }
   ],
   "source": [
    "print(\"avg_loss\",avg_loss)\n",
    "print(\"total_loss\",total_loss)\n",
    "print(\"total_samples\",total_samples)"
   ]
  },
  {
   "cell_type": "code",
   "execution_count": 150,
   "metadata": {},
   "outputs": [
    {
     "data": {
      "text/plain": [
       "array([[2.333, 2.667, 3.   , 2.667, 1.667, 2.   ],\n",
       "       [1.333, 1.333, 1.333, 1.   , 2.   , 2.   ],\n",
       "       [0.667, 0.667, 0.667, 1.333, 1.   , 1.   ],\n",
       "       ...,\n",
       "       [1.667, 1.333, 2.667, 2.   , 1.   , 1.   ],\n",
       "       [2.667, 3.667, 2.667, 2.   , 2.   , 2.333],\n",
       "       [2.333, 1.667, 1.667, 1.667, 2.   , 2.667]], dtype=float32)"
      ]
     },
     "execution_count": 150,
     "metadata": {},
     "output_type": "execute_result"
    }
   ],
   "source": [
    "all_ground_truths"
   ]
  },
  {
   "cell_type": "code",
   "execution_count": 151,
   "metadata": {},
   "outputs": [
    {
     "data": {
      "text/plain": [
       "array([[2.9641154, 2.9964697, 2.925684 , 2.88824  , 2.7787626, 2.7840645],\n",
       "       [2.8548088, 2.4523966, 2.4015148, 2.307777 , 2.3004491, 2.352857 ],\n",
       "       [1.1854029, 1.2733736, 1.2391866, 1.2454447, 1.3282005, 1.4638627],\n",
       "       ...,\n",
       "       [1.971837 , 2.1104069, 2.055106 , 1.9183652, 2.0299466, 2.230734 ],\n",
       "       [2.9504235, 2.8441694, 2.7715876, 2.7534301, 2.730087 , 2.7030692],\n",
       "       [3.3265302, 3.215224 , 3.1640625, 3.132376 , 3.087572 , 3.019865 ]],\n",
       "      dtype=float32)"
      ]
     },
     "execution_count": 151,
     "metadata": {},
     "output_type": "execute_result"
    }
   ],
   "source": [
    "all_predictions"
   ]
  },
  {
   "cell_type": "code",
   "execution_count": 152,
   "metadata": {},
   "outputs": [
    {
     "data": {
      "image/png": "[encoded data removed]",
      "text/plain": [
       "<Figure size 1000x600 with 1 Axes>"
      ]
     },
     "metadata": {},
     "output_type": "display_data"
    }
   ],
   "source": [
    "# Ensure all_predictions and all_ground_truths are PyTorch tensors\n",
    "all_predictions = [torch.tensor(pred) if not isinstance(pred, torch.Tensor) else pred for pred in all_predictions]\n",
    "all_ground_truths = [torch.tensor(gt) if not isinstance(gt, torch.Tensor) else gt for gt in all_ground_truths]\n",
    "\n",
    "# Convert saved outputs and ground truths into tensors\n",
    "all_predictions = torch.cat(all_predictions, dim=0)\n",
    "all_ground_truths = torch.cat(all_ground_truths, dim=0)\n",
    "\n",
    "# Plot the results\n",
    "plt.figure(figsize=(10, 6))\n",
    "plt.plot(all_ground_truths.numpy().flatten(), label='Ground Truth', color='blue', alpha=0.7)\n",
    "plt.plot(all_predictions.numpy().flatten(), label='Predictions', color='red', alpha=0.7)\n",
    "plt.legend()\n",
    "plt.xlabel('Sample Index')\n",
    "plt.ylabel('Value')\n",
    "plt.title('Model Predictions vs Ground Truth')\n",
    "plt.show()"
   ]
  },
  {
   "cell_type": "code",
   "execution_count": null,
   "metadata": {},
   "outputs": [],
   "source": []
  },
  {
   "cell_type": "code",
   "execution_count": null,
   "metadata": {},
   "outputs": [],
   "source": []
  }
 ],
 "metadata": {
  "kernelspec": {
   "display_name": "Python 3",
   "language": "python",
   "name": "python3"
  },
  "language_info": {
   "codemirror_mode": {
    "name": "ipython",
    "version": 3
   },
   "file_extension": ".py",
   "mimetype": "text/x-python",
   "name": "python",
   "nbconvert_exporter": "python",
   "pygments_lexer": "ipython3",
   "version": "3.9.5"
  }
 },
 "nbformat": 4,
 "nbformat_minor": 2
}
