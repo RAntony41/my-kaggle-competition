{
 "cells": [
  {
   "cell_type": "code",
   "execution_count": 1,
   "metadata": {},
   "outputs": [],
   "source": [
    "import pandas as pd\n",
    "import json\n",
    "import os\n",
    "\n",
    "import numpy as np\n",
    "import matplotlib.pyplot as plt\n",
    "\n",
    "import torch\n",
    "import torch.nn as nn\n",
    "import torch.optim as optim\n",
    "from torch.utils.data import Dataset, DataLoader, Subset\n",
    "\n",
    "from tqdm import tqdm"
   ]
  },
  {
   "cell_type": "code",
   "execution_count": 2,
   "metadata": {},
   "outputs": [
    {
     "data": {
      "text/plain": [
       "device(type='mps')"
      ]
     },
     "execution_count": 2,
     "metadata": {},
     "output_type": "execute_result"
    }
   ],
   "source": [
    "if torch.cuda.is_available():\n",
    "    device = torch.device(\"cuda\")\n",
    "elif torch.backends.mps.is_available():\n",
    "    device = torch.device(\"mps\")\n",
    "else:\n",
    "    device = torch.device(\"cpu\")\n",
    "\n",
    "device"
   ]
  },
  {
   "cell_type": "code",
   "execution_count": 3,
   "metadata": {},
   "outputs": [],
   "source": [
    "import json\n",
    "import pandas as pd\n",
    "\n",
    "# Load the JSON file\n",
    "file_path = './downloaded_data.json'  # Replace with your file path\n",
    "with open(file_path, 'r') as file:\n",
    "    data = json.load(file)\n",
    "\n",
    "# Convert the \"datetime\" field to a DataFrame\n",
    "df = pd.DataFrame({'datetime': data['datetime'], 'Hp60': data['Hp60']})"
   ]
  },
  {
   "cell_type": "code",
   "execution_count": 4,
   "metadata": {},
   "outputs": [],
   "source": [
    "def change_time(df):\n",
    "    # Remove the 'Z' and convert to Pandas datetime format\n",
    "    df['datetime'] = pd.to_datetime(df['datetime'].str.replace('Z', ''))\n",
    "\n",
    "    # Separate components\n",
    "    df['date'] = df['datetime'].dt.date       # Extract date\n",
    "    df['time'] = df['datetime'].dt.time       # Extract time\n",
    "    df['year'] = df['datetime'].dt.year       # Extract year\n",
    "    df['month'] = df['datetime'].dt.month     # Extract month\n",
    "    df['day'] = df['datetime'].dt.day         # Extract day\n",
    "    df['hour'] = df['datetime'].dt.hour       # Extract hour\n",
    "\n",
    "    df = df.drop(columns=['datetime','date','time'])\n",
    "    \n",
    "    return df\n",
    "\n",
    "df = change_time(df)"
   ]
  },
  {
   "cell_type": "code",
   "execution_count": 5,
   "metadata": {},
   "outputs": [],
   "source": [
    "train_df = df[df['year']!=2024]\n",
    "test_df = df[df['year']==2024]"
   ]
  },
  {
   "cell_type": "markdown",
   "metadata": {},
   "source": [
    "# Dataloader"
   ]
  },
  {
   "cell_type": "code",
   "execution_count": 6,
   "metadata": {},
   "outputs": [],
   "source": [
    "from sklearn.preprocessing import MinMaxScaler\n",
    "\n",
    "scaler = MinMaxScaler()"
   ]
  },
  {
   "cell_type": "code",
   "execution_count": 7,
   "metadata": {},
   "outputs": [],
   "source": [
    "class Sliding_window(Dataset):\n",
    "    def __init__(self, df, X_point, y_point):\n",
    "        self.df = df\n",
    "        self.X_point = X_point\n",
    "        self.y_point = y_point\n",
    "        self.sequence24 = []\n",
    "        self.sequence6 = []\n",
    "        \n",
    "        counter = 1\n",
    "        temp_x = []\n",
    "        temp_y = []\n",
    "        for idx,i in enumerate(self.df['Hp60']):\n",
    "            if counter <= self.X_point:\n",
    "                temp_x.append(i)\n",
    "            else:\n",
    "                temp_y.append(i)\n",
    "            \n",
    "            if (idx + 1) % (X_point + y_point) == 0:\n",
    "                self.sequence24.append(temp_x)\n",
    "                self.sequence6.append(temp_y)\n",
    "                temp_x = []\n",
    "                temp_y = []\n",
    "                counter = 0\n",
    "             \n",
    "            counter += 1    \n",
    "    \n",
    "    def __len__(self):\n",
    "        return len(self.sequence24)\n",
    "\n",
    "    def __getitem__(self, idx):\n",
    "        data = torch.Tensor(self.sequence24[idx])\n",
    "        label = torch.Tensor(self.sequence6[idx])\n",
    "        \n",
    "        return data, label\n"
   ]
  },
  {
   "cell_type": "code",
   "execution_count": 8,
   "metadata": {},
   "outputs": [],
   "source": [
    "train_dataset = Sliding_window(df=train_df,\n",
    "                         X_point=24,\n",
    "                         y_point=6)\n",
    "test_dataset = Sliding_window(df=test_df,\n",
    "                         X_point=24,\n",
    "                         y_point=6)"
   ]
  },
  {
   "cell_type": "code",
   "execution_count": 9,
   "metadata": {},
   "outputs": [],
   "source": [
    "train_dataloader = DataLoader(train_dataset, batch_size=32, shuffle=False)\n",
    "test_dataloader = DataLoader(test_dataset, batch_size=32, shuffle=False)"
   ]
  },
  {
   "cell_type": "code",
   "execution_count": 10,
   "metadata": {},
   "outputs": [],
   "source": [
    "x,y = train_dataset[2:5]"
   ]
  },
  {
   "cell_type": "code",
   "execution_count": 11,
   "metadata": {},
   "outputs": [
    {
     "data": {
      "text/plain": [
       "tensor([[0.3330, 0.0000, 0.0000, 0.3330, 0.6670, 0.0000, 0.0000, 0.0000, 0.3330,\n",
       "         0.3330, 0.6670, 0.6670, 1.3330, 0.0000, 0.0000, 0.0000, 0.0000, 0.3330,\n",
       "         0.6670, 0.3330, 1.3330, 1.0000, 1.0000, 0.3330],\n",
       "        [0.0000, 0.3330, 0.3330, 0.3330, 0.6670, 0.6670, 2.6670, 1.6670, 2.0000,\n",
       "         1.0000, 1.3330, 1.0000, 1.3330, 1.6670, 1.0000, 0.0000, 0.6670, 1.3330,\n",
       "         3.0000, 4.6670, 4.0000, 3.3330, 2.6670, 1.3330],\n",
       "        [3.0000, 3.6670, 3.3330, 3.3330, 3.0000, 2.3330, 4.0000, 3.3330, 3.3330,\n",
       "         2.3330, 2.6670, 3.0000, 2.3330, 2.0000, 2.3330, 1.3330, 2.0000, 2.0000,\n",
       "         1.6670, 1.3330, 1.3330, 1.6670, 1.6670, 1.3330]])"
      ]
     },
     "execution_count": 11,
     "metadata": {},
     "output_type": "execute_result"
    }
   ],
   "source": [
    "x"
   ]
  },
  {
   "cell_type": "code",
   "execution_count": 12,
   "metadata": {},
   "outputs": [
    {
     "data": {
      "text/plain": [
       "tensor([[0.3330, 0.0000, 0.0000, 0.3330, 0.6670, 0.0000],\n",
       "        [2.0000, 1.0000, 1.3330, 2.3330, 2.6670, 4.0000],\n",
       "        [1.0000, 2.0000, 1.3330, 1.6670, 2.0000, 2.0000]])"
      ]
     },
     "execution_count": 12,
     "metadata": {},
     "output_type": "execute_result"
    }
   ],
   "source": [
    "y"
   ]
  },
  {
   "cell_type": "markdown",
   "metadata": {},
   "source": [
    "# Model"
   ]
  },
  {
   "cell_type": "code",
   "execution_count": 13,
   "metadata": {},
   "outputs": [
    {
     "name": "stdout",
     "output_type": "stream",
     "text": [
      "torch.Size([32, 6])\n"
     ]
    },
    {
     "name": "stderr",
     "output_type": "stream",
     "text": [
      "/opt/anaconda3/envs/env_imageProcessing/lib/python3.12/site-packages/torch/nn/modules/transformer.py:379: UserWarning: enable_nested_tensor is True, but self.use_nested_tensor is False because encoder_layer.self_attn.batch_first was not True(use batch_first for better inference performance)\n",
      "  warnings.warn(\n"
     ]
    }
   ],
   "source": [
    "class TransformerForecaster(nn.Module):\n",
    "    def __init__(self, input_seq=24, output_seq=6, d_model=64, nhead=4, num_layers=3):\n",
    "        super(TransformerForecaster, self).__init__()\n",
    "\n",
    "        self.input_seq = input_seq\n",
    "        self.output_seq = output_seq\n",
    "        self.d_model = d_model\n",
    "\n",
    "        # Transformer Encoder\n",
    "        encoder_layer = nn.TransformerEncoderLayer(d_model=d_model, nhead=nhead)\n",
    "        self.transformer = nn.TransformerEncoder(encoder_layer, num_layers=num_layers)\n",
    "\n",
    "        # Fully connected layer for prediction\n",
    "        self.fc = nn.Linear(d_model, output_seq)\n",
    "\n",
    "        # Learnable positional encoding\n",
    "        self.positional_encoding = nn.Parameter(torch.zeros(input_seq, d_model)) \n",
    "\n",
    "    def forward(self, x):\n",
    "        x = x.unsqueeze(-1)  # Reshape (batch, seq) -> (batch, seq, 1)\n",
    "        x = x.repeat(1, 1, self.d_model)  # Expand to match d_model size (batch, seq, d_model)\n",
    "\n",
    "        # Add positional encoding\n",
    "        pos_enc = self.positional_encoding.unsqueeze(0).expand(x.shape[0], -1, -1)  # (batch, seq, d_model)\n",
    "        x = x + pos_enc  # Add position info\n",
    "\n",
    "        x = x.permute(1, 0, 2)  # Change to (seq_len, batch, d_model) for Transformer\n",
    "\n",
    "        x = self.transformer(x)  # Encode input sequence\n",
    "        x = x[-1, :, :]  # Use last time step's feature vector\n",
    "        x = self.fc(x)  # Output (batch, output_seq)\n",
    "\n",
    "        return x\n",
    "\n",
    "# Example Usage\n",
    "batch_size = 32\n",
    "input_seq = 24  # Input past 24 time steps\n",
    "output_seq = 6  # Predict next 6 time steps\n",
    "\n",
    "model = TransformerForecaster(input_seq=input_seq, output_seq=output_seq)\n",
    "\n",
    "# Fake geomagnetic data: (batch, seq)\n",
    "x = torch.randn(batch_size, input_seq)  # (32, 24)\n",
    "y_pred = model(x)  # Predict next 6 steps\n",
    "print(y_pred.shape)  # (32, 6)"
   ]
  },
  {
   "cell_type": "markdown",
   "metadata": {},
   "source": [
    "# Train"
   ]
  },
  {
   "cell_type": "code",
   "execution_count": 14,
   "metadata": {},
   "outputs": [
    {
     "name": "stderr",
     "output_type": "stream",
     "text": [
      "Epoch 1/20: 100%|██████████| 28/28 [00:01<00:00, 16.76it/s]\n"
     ]
    },
    {
     "name": "stdout",
     "output_type": "stream",
     "text": [
      "Epoch: 1, Batch: 28, Loss: 0.4937\n"
     ]
    },
    {
     "name": "stderr",
     "output_type": "stream",
     "text": [
      "Epoch 2/20: 100%|██████████| 28/28 [00:01<00:00, 20.28it/s]\n"
     ]
    },
    {
     "name": "stdout",
     "output_type": "stream",
     "text": [
      "Epoch: 2, Batch: 28, Loss: 0.4614\n"
     ]
    },
    {
     "name": "stderr",
     "output_type": "stream",
     "text": [
      "Epoch 3/20: 100%|██████████| 28/28 [00:01<00:00, 20.51it/s]\n"
     ]
    },
    {
     "name": "stdout",
     "output_type": "stream",
     "text": [
      "Epoch: 3, Batch: 28, Loss: 0.4581\n"
     ]
    },
    {
     "name": "stderr",
     "output_type": "stream",
     "text": [
      "Epoch 4/20: 100%|██████████| 28/28 [00:01<00:00, 20.20it/s]\n"
     ]
    },
    {
     "name": "stdout",
     "output_type": "stream",
     "text": [
      "Epoch: 4, Batch: 28, Loss: 0.4524\n"
     ]
    },
    {
     "name": "stderr",
     "output_type": "stream",
     "text": [
      "Epoch 5/20: 100%|██████████| 28/28 [00:01<00:00, 19.74it/s]\n"
     ]
    },
    {
     "name": "stdout",
     "output_type": "stream",
     "text": [
      "Epoch: 5, Batch: 28, Loss: 0.4469\n"
     ]
    },
    {
     "name": "stderr",
     "output_type": "stream",
     "text": [
      "Epoch 6/20: 100%|██████████| 28/28 [00:01<00:00, 20.36it/s]\n"
     ]
    },
    {
     "name": "stdout",
     "output_type": "stream",
     "text": [
      "Epoch: 6, Batch: 28, Loss: 0.4556\n"
     ]
    },
    {
     "name": "stderr",
     "output_type": "stream",
     "text": [
      "Epoch 7/20: 100%|██████████| 28/28 [00:01<00:00, 20.63it/s]\n"
     ]
    },
    {
     "name": "stdout",
     "output_type": "stream",
     "text": [
      "Epoch: 7, Batch: 28, Loss: 0.4483\n"
     ]
    },
    {
     "name": "stderr",
     "output_type": "stream",
     "text": [
      "Epoch 8/20: 100%|██████████| 28/28 [00:01<00:00, 20.32it/s]\n"
     ]
    },
    {
     "name": "stdout",
     "output_type": "stream",
     "text": [
      "Epoch: 8, Batch: 28, Loss: 0.4573\n"
     ]
    },
    {
     "name": "stderr",
     "output_type": "stream",
     "text": [
      "Epoch 9/20: 100%|██████████| 28/28 [00:01<00:00, 20.03it/s]\n"
     ]
    },
    {
     "name": "stdout",
     "output_type": "stream",
     "text": [
      "Epoch: 9, Batch: 28, Loss: 0.4632\n"
     ]
    },
    {
     "name": "stderr",
     "output_type": "stream",
     "text": [
      "Epoch 10/20: 100%|██████████| 28/28 [00:01<00:00, 20.45it/s]\n"
     ]
    },
    {
     "name": "stdout",
     "output_type": "stream",
     "text": [
      "Epoch: 10, Batch: 28, Loss: 0.4604\n"
     ]
    },
    {
     "name": "stderr",
     "output_type": "stream",
     "text": [
      "Epoch 11/20: 100%|██████████| 28/28 [00:01<00:00, 20.57it/s]\n"
     ]
    },
    {
     "name": "stdout",
     "output_type": "stream",
     "text": [
      "Epoch: 11, Batch: 28, Loss: 0.4637\n"
     ]
    },
    {
     "name": "stderr",
     "output_type": "stream",
     "text": [
      "Epoch 12/20: 100%|██████████| 28/28 [00:01<00:00, 20.44it/s]\n"
     ]
    },
    {
     "name": "stdout",
     "output_type": "stream",
     "text": [
      "Epoch: 12, Batch: 28, Loss: 0.4706\n"
     ]
    },
    {
     "name": "stderr",
     "output_type": "stream",
     "text": [
      "Epoch 13/20: 100%|██████████| 28/28 [00:01<00:00, 20.07it/s]\n"
     ]
    },
    {
     "name": "stdout",
     "output_type": "stream",
     "text": [
      "Epoch: 13, Batch: 28, Loss: 0.4867\n"
     ]
    },
    {
     "name": "stderr",
     "output_type": "stream",
     "text": [
      "Epoch 14/20: 100%|██████████| 28/28 [00:01<00:00, 20.45it/s]\n"
     ]
    },
    {
     "name": "stdout",
     "output_type": "stream",
     "text": [
      "Epoch: 14, Batch: 28, Loss: 0.5037\n"
     ]
    },
    {
     "name": "stderr",
     "output_type": "stream",
     "text": [
      "Epoch 15/20: 100%|██████████| 28/28 [00:01<00:00, 20.67it/s]\n"
     ]
    },
    {
     "name": "stdout",
     "output_type": "stream",
     "text": [
      "Epoch: 15, Batch: 28, Loss: 0.5037\n"
     ]
    },
    {
     "name": "stderr",
     "output_type": "stream",
     "text": [
      "Epoch 16/20: 100%|██████████| 28/28 [00:01<00:00, 20.58it/s]\n"
     ]
    },
    {
     "name": "stdout",
     "output_type": "stream",
     "text": [
      "Epoch: 16, Batch: 28, Loss: 0.5065\n"
     ]
    },
    {
     "name": "stderr",
     "output_type": "stream",
     "text": [
      "Epoch 17/20: 100%|██████████| 28/28 [00:01<00:00, 20.04it/s]\n"
     ]
    },
    {
     "name": "stdout",
     "output_type": "stream",
     "text": [
      "Epoch: 17, Batch: 28, Loss: 0.5084\n"
     ]
    },
    {
     "name": "stderr",
     "output_type": "stream",
     "text": [
      "Epoch 18/20: 100%|██████████| 28/28 [00:01<00:00, 19.45it/s]\n"
     ]
    },
    {
     "name": "stdout",
     "output_type": "stream",
     "text": [
      "Epoch: 18, Batch: 28, Loss: 0.5114\n"
     ]
    },
    {
     "name": "stderr",
     "output_type": "stream",
     "text": [
      "Epoch 19/20: 100%|██████████| 28/28 [00:01<00:00, 20.36it/s]\n"
     ]
    },
    {
     "name": "stdout",
     "output_type": "stream",
     "text": [
      "Epoch: 19, Batch: 28, Loss: 0.5239\n"
     ]
    },
    {
     "name": "stderr",
     "output_type": "stream",
     "text": [
      "Epoch 20/20: 100%|██████████| 28/28 [00:01<00:00, 19.50it/s]"
     ]
    },
    {
     "name": "stdout",
     "output_type": "stream",
     "text": [
      "Epoch: 20, Batch: 28, Loss: 0.5140\n"
     ]
    },
    {
     "name": "stderr",
     "output_type": "stream",
     "text": [
      "\n"
     ]
    }
   ],
   "source": [
    "criterion = nn.MSELoss() \n",
    "optimizer = optim.Adam(model.parameters(), lr=0.01)\n",
    "\n",
    "epochs = 20\n",
    "\n",
    "# Training loop\n",
    "for epoch in range(epochs):\n",
    "    model.train()  # Set the model to training mode\n",
    "    running_loss = 0.\n",
    "    \n",
    "    train_dataloader = tqdm(train_dataloader, desc=f\"Epoch {epoch + 1}/{epochs}\")\n",
    "    for i, (inputs, futures) in enumerate(train_dataloader):\n",
    "        inputs, futures = inputs, futures\n",
    "        optimizer.zero_grad()  # Zero the gradients\n",
    "        \n",
    "        outputs = model(inputs)  # Forward pass\n",
    "        loss = criterion(outputs, futures)  # Calculate loss\n",
    "        loss.backward()  # Backward pass\n",
    "        optimizer.step()  # Update weights\n",
    "\n",
    "        running_loss += loss.item()\n",
    "\n",
    "    print(f\"Epoch: {epoch + 1}, Batch: {i + 1}, Loss: {running_loss / 100:.4f}\")\n",
    "    running_loss = 0.0"
   ]
  },
  {
   "cell_type": "markdown",
   "metadata": {},
   "source": [
    "# Test"
   ]
  },
  {
   "cell_type": "code",
   "execution_count": 15,
   "metadata": {},
   "outputs": [
    {
     "name": "stderr",
     "output_type": "stream",
     "text": [
      "Evaluation: 100%|██████████| 9/9 [00:00<00:00, 97.98it/s]"
     ]
    },
    {
     "name": "stdout",
     "output_type": "stream",
     "text": [
      "avg_loss 2.1639053888488236\n",
      "total_loss 616.7130358219147\n",
      "total_samples 285\n"
     ]
    },
    {
     "name": "stderr",
     "output_type": "stream",
     "text": [
      "\n"
     ]
    }
   ],
   "source": [
    "model.eval()\n",
    "\n",
    "total_loss = 0\n",
    "total_samples = 0\n",
    "\n",
    "all_predictions = []\n",
    "all_ground_truths = [] \n",
    "# Wrap the test dataloader with tqdm\n",
    "test_dataloader = tqdm(test_dataloader, desc=\"Evaluation\")\n",
    "\n",
    "with torch.no_grad():\n",
    "    for inputs, futures in test_dataloader:\n",
    "        inputs, futures = inputs, futures\n",
    "        \n",
    "        outputs = model(inputs)  # Forward pass\n",
    "        loss = criterion(outputs, futures)\n",
    "        total_loss += loss.item() * inputs.size(0)  # Accumulate loss\n",
    "        total_samples += inputs.size(0)\n",
    "        \n",
    "        all_predictions.append(outputs)\n",
    "        all_ground_truths.append(futures)\n",
    "        \n",
    "avg_loss = total_loss / total_samples\n",
    "print(\"avg_loss\",avg_loss)\n",
    "print(\"total_loss\",total_loss)\n",
    "print(\"total_samples\",total_samples)"
   ]
  },
  {
   "cell_type": "code",
   "execution_count": 16,
   "metadata": {},
   "outputs": [
    {
     "name": "stdout",
     "output_type": "stream",
     "text": [
      "avg_loss 2.1639053888488236\n",
      "total_loss 616.7130358219147\n",
      "total_samples 285\n"
     ]
    }
   ],
   "source": [
    "print(\"avg_loss\",avg_loss)\n",
    "print(\"total_loss\",total_loss)\n",
    "print(\"total_samples\",total_samples)"
   ]
  },
  {
   "cell_type": "code",
   "execution_count": 17,
   "metadata": {},
   "outputs": [
    {
     "data": {
      "image/png": "[encoded data removed]",
      "text/plain": [
       "<Figure size 1000x600 with 1 Axes>"
      ]
     },
     "metadata": {},
     "output_type": "display_data"
    }
   ],
   "source": [
    "# Convert saved outputs and ground truths into tensors\n",
    "all_predictions = torch.cat(all_predictions, dim=0)\n",
    "all_ground_truths = torch.cat(all_ground_truths, dim=0)\n",
    "\n",
    "# Plot the results\n",
    "plt.figure(figsize=(10, 6))\n",
    "plt.plot(all_ground_truths.numpy().flatten(), label='Ground Truth', color='blue', alpha=0.7)\n",
    "plt.plot(all_predictions.numpy().flatten(), label='Predictions', color='red', alpha=1)\n",
    "plt.legend()\n",
    "plt.xlabel('Sample Index')\n",
    "plt.ylabel('Value')\n",
    "plt.title('Model Predictions vs Ground Truth')\n",
    "plt.show()"
   ]
  },
  {
   "cell_type": "code",
   "execution_count": 18,
   "metadata": {},
   "outputs": [
    {
     "name": "stdout",
     "output_type": "stream",
     "text": [
      "mae 1.1835653447616867\n",
      "mse 2.163905403484931\n"
     ]
    }
   ],
   "source": [
    "from sklearn.metrics import mean_absolute_error, mean_squared_error\n",
    "\n",
    "mae = mean_absolute_error(all_ground_truths, all_predictions)\n",
    "mse = mean_squared_error(all_ground_truths, all_predictions) \n",
    "\n",
    "print('mae',mae)\n",
    "print('mse',mse)"
   ]
  }
 ],
 "metadata": {
  "kernelspec": {
   "display_name": "env_imageProcessing",
   "language": "python",
   "name": "python3"
  },
  "language_info": {
   "codemirror_mode": {
    "name": "ipython",
    "version": 3
   },
   "file_extension": ".py",
   "mimetype": "text/x-python",
   "name": "python",
   "nbconvert_exporter": "python",
   "pygments_lexer": "ipython3",
   "version": "3.12.8"
  }
 },
 "nbformat": 4,
 "nbformat_minor": 2
}
